{
 "cells": [
  {
   "cell_type": "code",
   "execution_count": 1,
   "metadata": {},
   "outputs": [],
   "source": [
    "import requests"
   ]
  },
  {
   "cell_type": "code",
   "execution_count": 4,
   "metadata": {},
   "outputs": [],
   "source": [
    "url = 'https://api.data.gov/ed/colegescorecard/v1/schools?school.name=boston%20college&api_key=ixgiWhfvFxWQH8pn1ZjwLo35ExNNXUwBggdGnqGi'"
   ]
  },
  {
   "cell_type": "code",
   "execution_count": 7,
   "metadata": {},
   "outputs": [],
   "source": [
    "res = requests.get(url)"
   ]
  },
  {
   "cell_type": "raw",
   "metadata": {},
   "source": [
    "res.status_code"
   ]
  },
  {
   "cell_type": "code",
   "execution_count": 8,
   "metadata": {},
   "outputs": [
    {
     "data": {
      "text/plain": [
       "'<!DOCTYPE html>\\n<html lang=\"en-US\" class=\"no-js\">\\n  <head>\\n      <base href=\"/\" />\\n<title>\\n    Page Not Found\\n    |\\n  api.data.gov\\n</title>\\n<meta http-equiv=\"X-UA-Compatible\" content=\"IE=edge,chrome=1\">\\n<meta content=\"text/html; charset=utf-8\" http-equiv=\"Content-Type\">\\n<meta content=\"en\" name=\"language\">\\n<meta name=\"viewport\" content=\"width=device-width, initial-scale=1\">\\n\\n<link rel=\"stylesheet\" href=\"//fonts.googleapis.com/css?family=Abel%7CLato%3A100%2C300%2C400%2C700&#038;ver=3.8\">\\n<link href=\"static/stylesheets/all-688a8ae0.css\" rel=\"stylesheet\" />\\n\\n<!--[if lt IE 9]>\\n  <script src=\"static/javascripts/ie_lt_9-9f2d2b9c.js\"></script>\\n<![endif]-->\\n<script src=\"static/javascripts/all-054394cd.js\"></script>\\n<script type=\"text/javascript\" id=\"_fed_an_ua_tag\" src=\"https://dap.digitalgov.gov/Universal-Federated-Analytics-Min.js?agency=GSA&subagency=TTS\"></script>\\n<script type=\"text/javascript\">\\n  var analyticsFileTypes = [\\'\\'];\\n  var analyticsSnippet = \\'enabled\\';\\n  var analyticsEventTracking = \\'enabled\\';\\n</script>\\n<script>\\n  (function(i,s,o,g,r,a,m){i[\\'GoogleAnalyticsObject\\']=r;i[r]=i[r]||function(){\\n  (i[r].q=i[r].q||[]).push(arguments)},i[r].l=1*new Date();a=s.createElement(o),\\n  m=s.getElementsByTagName(o)[0];a.async=1;a.src=g;m.parentNode.insertBefore(a,m)\\n  })(window,document,\\'script\\',\\'//www.google-analytics.com/analytics.js\\',\\'ga\\');\\n\\n  ga(\\'create\\', \\'UA-48605964-13\\', \\'auto\\');\\n  ga(\\'create\\', \\'UA-42542568-1\\', \\'auto\\', { name: \\'legacy\\' });\\n  ga(\\'send\\', \\'pageview\\');\\n  ga(\\'legacy.send\\', \\'pageview\\');\\n</script>\\n\\n\\n  </head>\\n  <body class=\"archive category x404\">\\n    <!--[if lt IE 8]>\\n  <div class=\"alert alert-warning\">\\n    You are using an <strong>outdated</strong> browser. Please <a href=\"http://browsehappy.com/\">upgrade your\\n    browser</a> to improve your experience.\\n  </div>\\n<![endif]-->\\n<header>\\n  <div class=\"banner navbar navbar-default navbar-static-top yamm\" role=\"banner\">\\n    <div class=\"container\">\\n      <div class=\"searchbox-row skip-navigation\">\\n        <div class=\"sr-only skip-link\">\\n          <a href=\"main\" class=\"local-link\">Jump to Content</a>\\n        </div>\\n        <div>\\n          <form role=\"search\" method=\"get\" class=\"search-form form-inline navbar-right navbar-nav  col-sm-6 col-md-6 col-lg-6\" action=\"//catalog.data.gov/dataset\">\\n            <div class=\"input-group\">\\n              <label for=\"search-header\" class=\"sr-only\">Search for:</label>\\n\\n\\n\\n              <input type=\"search\" id=\"search-header\" title=\"Example searches: Monthly House Price Indexes, Health Care Provider Charge Data, Credit Card Complaints, Manufacturing &amp; Trade Inventories &amp; Sales, Federal Student Loan Program Data\" data-strings=\\'{\"targets\":[\"Monthly House Price Indexes\",\"Health Care Provider Charge Data\",\"Credit Card Complaints\",\"Manufacturing &amp; Trade Inventories &amp; Sales\",\"Federal Student Loan Program Data\"]}\\' value=\"\" name=\"q\" class=\"search-field form-control\" placeholder=\"Search Data.gov\">\\n              <input type=\"hidden\" name=\"sort\" value=\"score desc, name asc\">\\n              <span class=\"input-group-btn\">\\n                <button type=\"submit\" class=\"search-submit btn btn-default\">\\n                  <i class=\"fa fa-search\"></i>\\n                  <span class=\"sr-only\">Search</span>\\n                </button>\\n              </span>\\n            </div>\\n          </form>\\n\\n        </div>\\n      </div>\\n\\n      <div class=\"navbar-header\">\\n        <button type=\"button\" class=\"navbar-toggle\" data-toggle=\"collapse\" data-target=\".navbar-collapse\">\\n          <span class=\"sr-only\">Toggle navigation</span>\\n          <span class=\"icon-bar\"></span>\\n          <span class=\"icon-bar\"></span>\\n          <span class=\"icon-bar\"></span>\\n        </button>\\n        <a href=\"https://www.data.gov/\" class=\"local-link\"><h1 class=\"navbar-brand\">Data.gov</h1></a>\\n      </div>\\n\\n      <nav class=\"collapse navbar-collapse\" role=\"navigation\">\\n        <ul id=\"menu-primary-navigation\" class=\"nav navbar-nav navbar-right\"><li class=\"menu-data\"><a href=\"http://catalog.data.gov/dataset\" class=\"local-link\">Data</a></li>\\n          <li class=\"dropdown yamm-fw menu-topics\"><a class=\"dropdown-toggle local-link\" data-toggle=\"dropdown\" data-target=\"#\" href=\"http://data.gov/communities/\">Topics <b class=\"caret\"></b></a>\\n          <ul class=\"dropdown-menu topics\">\\n            <li class=\"menu-agriculture topic-food\"><a href=\"http://data.gov/food/\" class=\"local-link\"><i></i><span>Agriculture</span></a></li>\\n            <li class=\"menu-climate topic-climate\"><a href=\"http://data.gov/climate/\" class=\"local-link\"><i></i><span>Climate</span></a></li>\\n            <li class=\"menu-consumer topic-consumer\"><a href=\"http://data.gov/consumer/\" class=\"local-link\"><i></i><span>Consumer</span></a></li>\\n            <li class=\"menu-education topic-education\"><a href=\"http://data.gov/education/\" class=\"local-link\"><i></i><span>Education</span></a></li>\\n            <li class=\"menu-energy topic-energy\"><a href=\"http://data.gov/energy/\" class=\"local-link\"><i></i><span>Energy</span></a></li>\\n            <li class=\"menu-finance topic-finance\"><a href=\"http://data.gov/finance\" class=\"local-link\"><i></i><span>Finance</span></a></li>\\n            <li class=\"menu-geospatial topic-geospatial\"><a href=\"http://data.gov/geospatial/\" class=\"local-link\"><i></i><span>Geospatial</span></a></li>\\n            <li class=\"menu-global-development topic-development\"><a href=\"http://data.gov/development/\" class=\"local-link\"><i></i><span>Global Development</span></a></li>\\n            <li class=\"menu-health topic-health\"><a href=\"http://data.gov/health/\" class=\"local-link\"><i></i><span>Health</span></a></li>\\n            <li class=\"menu-jobs-skills topic-jobs-and-skills\"><a href=\"http://data.gov/jobs-and-skills/\" class=\"local-link\"><i></i><span>Jobs &#038; Skills</span></a></li>\\n            <li class=\"menu-public-safety topic-safety\"><a href=\"http://data.gov/safety/\" class=\"local-link\"><i></i><span>Public Safety</span></a></li>\\n            <li class=\"menu-science-research topic-research\"><a href=\"http://data.gov/research/\" class=\"local-link\"><i></i><span>Science &#038; Research</span></a></li>\\n            <li class=\"menu-weather topic-weather\"><a href=\"http://data.gov/weather/\" class=\"local-link\"><i></i><span>Weather</span></a></li>\\n            <li class=\"menu-business topic-business\"><a href=\"http://data.gov/business/\" class=\"local-link\"><i></i><span>Business</span></a></li>\\n            <li class=\"menu-cities topic-cities\"><a href=\"http://data.gov/cities/\" class=\"local-link\"><i></i><span>Cities</span></a></li>\\n            <li class=\"menu-counties topic-counties\"><a href=\"http://data.gov/counties/\" class=\"local-link\"><i></i><span>Counties</span></a></li>\\n            <li class=\"menu-ethics topic-ethics\"><a href=\"https://explore.data.gov/ethics\" class=\"local-link\"><i></i><span>Ethics</span></a></li>\\n            <li class=\"menu-law topic-law\"><a href=\"http://data.gov/law/\" class=\"local-link\"><i></i><span>Law</span></a></li>\\n            <li class=\"menu-manufacturing topic-manufacturing\"><a href=\"http://data.gov/manufacturing/\" class=\"local-link\"><i></i><span>Manufacturing</span></a></li>\\n            <li class=\"menu-ocean topic-ocean\"><a href=\"http://data.gov/ocean/\" class=\"local-link\"><i></i><span>Ocean</span></a></li>\\n            <li class=\"menu-states topic-states\"><a href=\"http://data.gov/states/\" class=\"local-link\"><i></i><span>States</span></a></li>\\n          </ul>\\n          </li>\\n          <li class=\"menu-impact\"><a href=\"http://data.gov/impact/\" class=\"local-link\">Impact</a></li>\\n          <li class=\"menu-applications\"><a href=\"http://data.gov/applications\" class=\"local-link\">Applications</a></li>\\n          <li class=\"menu-developers\"><a href=\"http://data.gov/developers/\" class=\"local-link\">Developers</a></li>\\n          <li class=\"menu-contact\"><a href=\"/contact/\" class=\"local-link\">Contact</a></li>\\n        </ul>\\n      </nav>\\n    </div>\\n  </div>\\n\\n  <div class=\"header banner page-heading\">\\n    <div class=\"container\">\\n      <div class=\"page-header\">\\n        <h1>\\n          <div class=\"category-header\"><a href=\"/\" class=\"local-link\"><span>api.data.gov</span></a></div>\\n        </h1>\\n        <div class=\"tagline\">\\n        </div>\\n      </div>\\n    </div>\\n  </div>\\n</header>\\n\\n<div role=\"document\">\\n  <div class=\"content\">\\n    <main class=\"main\" role=\"main\" id=\"main\">\\n      <div class=\"subnav banner\">\\n        <div class=\"container\">\\n          <nav class=\"topic-subnav\" role=\"navigation\">\\n          <ul class=\"nav navbar-nav\">\\n            <li><a href=\"/docs/\" class=\"local-link\">API Docs</a></li>\\n            <li><a href=\"/signup\" class=\"local-link\">API Key Signup</a></li>\\n          </ul>\\n          </nav>\\n        </div>\\n      </div>\\n      \\n      <div class=\"wrap container content-page\">\\n\\n    <div class=\"alert alert-warning\">The page you are looking for is currently unavailable to view</div>\\n\\n<p>We have been upgrading our site. It is possible that this page has been moved or renamed. You can use your browser\\'s Back button to return to the previous page, or <a href=\"/\" class=\"local-link\">go to the homepage</a>, and search for the information you are looking for.</p>\\n<p>If you think that you have reached this page due to an error on our part, <a href=\"/contact/\" class=\"local-link\">please contact us</a>.</p>\\n\\n    \\n    <div style=\"text-align: center; font-style: italic; padding: 3em 0.5em 0em 0.5em;\">\\n  <a href=\"https://github.com/18F/api.data.gov/blob/master/source/404.html.erb\">Help Improve this Content</a>\\n</div>\\n\\n          </div>\\n    </main>\\n    <!-- /.main -->\\n  </div>\\n  <!-- /.content -->\\n</div>\\n<!-- /.wrap -->\\n\\n\\n<footer class=\"content-info\" role=\"contentinfo\">\\n  <div class=\"container\">\\n    <div class=\"row\">\\n      <div class=\"col-md-6 col-lg-6\">\\n        <div class=\"footer-logo\">\\n          <a class=\"logo-brand local-link\" href=\"https://www.data.gov/\" alt=\"Data.gov\">Data.gov</a>\\n        </div>\\n        <ul id=\"menu-footer2\" class=\"nav\"><li class=\"menu-privacy-and-website-policies\"><a href=\"https://www.data.gov/privacy-policy\" class=\"local-link\">Privacy and Website Policies</a></li>\\n          <li class=\"menu-usa-gov\"><a href=\"https://www.usa.gov/\" class=\"external ext-link\" rel=\"external\" onclick=\"this.target=&#039;_blank&#039;;\">USA.GOV</a></li>\\n          <li class=\"menu-performance-gov\"><a href=\"http://www.performance.gov/\" class=\"external ext-link\" rel=\"external\" onclick=\"this.target=&#039;_blank&#039;;\">PERFORMANCE.GOV</a></li>\\n        </ul>\\n      </div>\\n      <nav class=\"col-md-3 col-lg-3\" role=\"navigation\">\\n        <ul id=\"menu-footer\" class=\"nav\"><li class=\"menu-about\"><a href=\"https://www.data.gov/about\" class=\"local-link\">About</a></li>\\n          <li class=\"menu-open-government\"><a href=\"https://www.data.gov/open-gov/\" class=\"local-link\">Open Government</a></li>\\n          <li class=\"menu-blog\"><a href=\"https://www.data.gov/meta/\" class=\"local-link\">Blog</a></li>\\n          <li class=\"menu-metrics\"><a href=\"https://www.data.gov/metrics\" class=\"local-link\">Metrics</a></li>\\n          <li class=\"menu-events\"><a href=\"https://www.data.gov/events/\">Events</a></li>\\n          <li class=\"menu-log-in\"><a href=\"/admin/\" class=\"local-link\">Log In</a></li>\\n        </ul>\\n      </nav>\\n      <div class=\"col-md-3 col-lg-3 social-nav\">\\n        <nav role=\"navigation\">\\n          <ul id=\"menu-social_navigation\" class=\"nav\"><li><a href=\"https://twitter.com/usdatagov\" title=\"This link will direct you to an external website that may have different content and privacy policies from Data.gov.\" class=\"local-link\"><i class=\"fa fa-twitter\" ></i><span>Twitter</span></a></li>\\n            <li><a href=\"http://github.com/GSA/data.gov/\" title=\"This link will direct you to an external website that may have different content and privacy policies from Data.gov.\" class=\"local-link\"><i class=\"fa fa-github\" ></i><span>Github</span></a></li>\\n          </ul>\\n        </nav>\\n      </div>\\n    </div>\\n  </div>\\n</footer>\\n\\n  </body>\\n</html>\\n'"
      ]
     },
     "execution_count": 8,
     "metadata": {},
     "output_type": "execute_result"
    }
   ],
   "source": [
    "res.text"
   ]
  }
 ],
 "metadata": {
  "kernelspec": {
   "display_name": "Python 3",
   "language": "python",
   "name": "python3"
  },
  "language_info": {
   "codemirror_mode": {
    "name": "ipython",
    "version": 3
   },
   "file_extension": ".py",
   "mimetype": "text/x-python",
   "name": "python",
   "nbconvert_exporter": "python",
   "pygments_lexer": "ipython3",
   "version": "3.8.5"
  }
 },
 "nbformat": 4,
 "nbformat_minor": 4
}
