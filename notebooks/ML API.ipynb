{
 "cells": [
  {
   "cell_type": "code",
   "execution_count": 1,
   "metadata": {},
   "outputs": [],
   "source": [
    "import os\n",
    "api_script_file = os.path.join(os.path.pardir, 'src', 'models', 'api.py')"
   ]
  },
  {
   "cell_type": "code",
   "execution_count": 3,
   "metadata": {},
   "outputs": [
    {
     "name": "stdout",
     "output_type": "stream",
     "text": [
      "Writing ..\\src\\models\\api.py\n"
     ]
    }
   ],
   "source": [
    "%%writefile $api_script_file\n",
    "\n",
    "from flask import Flask, request\n",
    "\n",
    "app = Flask(__name__)\n",
    "\n",
    "@app.route('/api', methods=['POST'])\n",
    "def say_hello():\n",
    "    data = request.get_json(force=True)\n",
    "    name = data['name']\n",
    "    return \"hello {0}\".format(name)\n",
    "\n",
    "if __name__ == '__main__':\n",
    "    app.run(port=10001, debug=True)"
   ]
  },
  {
   "cell_type": "code",
   "execution_count": 4,
   "metadata": {},
   "outputs": [],
   "source": [
    "import json\n",
    "import requests"
   ]
  },
  {
   "cell_type": "code",
   "execution_count": 7,
   "metadata": {},
   "outputs": [],
   "source": [
    "url = 'http://127.0.0.1:10001/api'\n",
    "data = json.dumps({'name' : 'syz'})\n",
    "r = requests.post(url,data)"
   ]
  },
  {
   "cell_type": "code",
   "execution_count": 8,
   "metadata": {
    "scrolled": true
   },
   "outputs": [
    {
     "data": {
      "text/plain": [
       "'hello syz'"
      ]
     },
     "execution_count": 8,
     "metadata": {},
     "output_type": "execute_result"
    }
   ],
   "source": [
    "r.text"
   ]
  },
  {
   "cell_type": "markdown",
   "metadata": {},
   "source": [
    "## Machine Learning API"
   ]
  },
  {
   "cell_type": "code",
   "execution_count": 9,
   "metadata": {},
   "outputs": [],
   "source": [
    "machine_learning_api_script_file = os.path.join(os.path.pardir,'src','models','machine_learning_api.py')"
   ]
  },
  {
   "cell_type": "code",
   "execution_count": 29,
   "metadata": {},
   "outputs": [
    {
     "name": "stdout",
     "output_type": "stream",
     "text": [
      "Overwriting ..\\src\\models\\machine_learning_api.py\n"
     ]
    }
   ],
   "source": [
    "%%writefile $machine_learning_api_script_file\n",
    "\n",
    "from flask import Flask, request\n",
    "import pandas as pd\n",
    "import numpy as np\n",
    "import json\n",
    "import pickle\n",
    "import os\n",
    "\n",
    "app = Flask(__name__)\n",
    "\n",
    "# Load Model and Scaler Files\n",
    "model_path = os.path.join(os.path.pardir,os.path.pardir,'models')\n",
    "model_filepath = os.path.join(model_path, 'lr_model.pkl')\n",
    "scaler_filepath = os.path.join(model_path, 'lr_scaler.pkl')\n",
    "\n",
    "scaler = pickle.load(open(scaler_filepath, 'rb'))\n",
    "model = pickle.load(open(model_filepath, 'rb'))\n",
    "\n",
    "# columns\n",
    "columns = [ u'Age', u'Fare', u'FamilySize', \\\n",
    "       u'IsMother', u'IsMale', u'Deck_A', u'Deck_B', u'Deck_C', u'Deck_D', \\\n",
    "       u'Deck_E', u'Deck_F', u'Deck_G', u'Deck_Z', u'Pclass_1', u'Pclass_2', \\\n",
    "       u'Pclass_3', u'Title_Lady', u'Title_Master', u'Title_Miss', u'Title_Mr', \\\n",
    "       u'Title_Mrs', u'Title_Officer', u'Title_Sir', u'Fare_Bin_very_low', \\\n",
    "       u'Fare_Bin_low', u'Fare_Bin_high', u'Fare_Bin_very_high', u'Embarked_C', \\\n",
    "       u'Embarked_Q', u'Embarked_S', u'AgeState_Adult', u'AgeState_Child'] \n",
    "\n",
    "\n",
    "@app.route('/api', methods=['POST'])\n",
    "def make_prediction():\n",
    "    # read json object and conver to json string\n",
    "    data = json.dumps(request.get_json(force=True))\n",
    "    # create pandas dataframe using json string\n",
    "    df = pd.read_json(data)\n",
    "    # extract passengerIds\n",
    "    passenger_ids = df['PassengerId'].ravel()\n",
    "    # actual survived values\n",
    "    actuals = df['Survived'].ravel()\n",
    "    # extract required columns based and convert to matrix\n",
    "    X = df[columns].values.astype('float')\n",
    "    # transform the input\n",
    "    X_scaled = scaler.transform(X)\n",
    "    # make predictions\n",
    "    predictions = model.predict(X_scaled)\n",
    "    # create response dataframe\n",
    "    df_response = pd.DataFrame({'PassengerId': passenger_ids, 'Predicted' : predictions, 'Actual' : actuals})\n",
    "    # return json \n",
    "    return df_response.to_json()\n",
    " \n",
    "\n",
    "if __name__ == '__main__':\n",
    "    # host flask app at port 10001\n",
    "    app.run(port=10001, debug=True)"
   ]
  },
  {
   "cell_type": "code",
   "execution_count": 12,
   "metadata": {},
   "outputs": [],
   "source": [
    "import os\n",
    "import pandas as pd\n",
    "processed_data_path = os.path.join(os.path.pardir,'data','processed')\n",
    "train_file_path = os.path.join(processed_data_path, 'train.csv')\n",
    "train_df = pd.read_csv(train_file_path)"
   ]
  },
  {
   "cell_type": "code",
   "execution_count": 13,
   "metadata": {},
   "outputs": [],
   "source": [
    "survived_passengers = train_df[train_df['Survived'] == 1][:5]"
   ]
  },
  {
   "cell_type": "code",
   "execution_count": 30,
   "metadata": {
    "scrolled": true
   },
   "outputs": [
    {
     "data": {
      "text/html": [
       "<div>\n",
       "<style scoped>\n",
       "    .dataframe tbody tr th:only-of-type {\n",
       "        vertical-align: middle;\n",
       "    }\n",
       "\n",
       "    .dataframe tbody tr th {\n",
       "        vertical-align: top;\n",
       "    }\n",
       "\n",
       "    .dataframe thead th {\n",
       "        text-align: right;\n",
       "    }\n",
       "</style>\n",
       "<table border=\"1\" class=\"dataframe\">\n",
       "  <thead>\n",
       "    <tr style=\"text-align: right;\">\n",
       "      <th></th>\n",
       "      <th>PassengerId</th>\n",
       "      <th>Survived</th>\n",
       "      <th>Age</th>\n",
       "      <th>Fare</th>\n",
       "      <th>FamilySize</th>\n",
       "      <th>IsMother</th>\n",
       "      <th>IsMale</th>\n",
       "      <th>Deck_A</th>\n",
       "      <th>Deck_B</th>\n",
       "      <th>Deck_C</th>\n",
       "      <th>...</th>\n",
       "      <th>Title_Sir</th>\n",
       "      <th>Fare_Bin_very_low</th>\n",
       "      <th>Fare_Bin_low</th>\n",
       "      <th>Fare_Bin_high</th>\n",
       "      <th>Fare_Bin_very_high</th>\n",
       "      <th>Embarked_C</th>\n",
       "      <th>Embarked_Q</th>\n",
       "      <th>Embarked_S</th>\n",
       "      <th>AgeState_Adult</th>\n",
       "      <th>AgeState_Child</th>\n",
       "    </tr>\n",
       "  </thead>\n",
       "  <tbody>\n",
       "    <tr>\n",
       "      <th>1</th>\n",
       "      <td>2</td>\n",
       "      <td>1</td>\n",
       "      <td>38.0</td>\n",
       "      <td>71.2833</td>\n",
       "      <td>2</td>\n",
       "      <td>0</td>\n",
       "      <td>0</td>\n",
       "      <td>0</td>\n",
       "      <td>0</td>\n",
       "      <td>1</td>\n",
       "      <td>...</td>\n",
       "      <td>0</td>\n",
       "      <td>0</td>\n",
       "      <td>0</td>\n",
       "      <td>0</td>\n",
       "      <td>1</td>\n",
       "      <td>1</td>\n",
       "      <td>0</td>\n",
       "      <td>0</td>\n",
       "      <td>1</td>\n",
       "      <td>0</td>\n",
       "    </tr>\n",
       "    <tr>\n",
       "      <th>2</th>\n",
       "      <td>3</td>\n",
       "      <td>1</td>\n",
       "      <td>26.0</td>\n",
       "      <td>7.9250</td>\n",
       "      <td>1</td>\n",
       "      <td>0</td>\n",
       "      <td>0</td>\n",
       "      <td>0</td>\n",
       "      <td>0</td>\n",
       "      <td>0</td>\n",
       "      <td>...</td>\n",
       "      <td>0</td>\n",
       "      <td>0</td>\n",
       "      <td>1</td>\n",
       "      <td>0</td>\n",
       "      <td>0</td>\n",
       "      <td>0</td>\n",
       "      <td>0</td>\n",
       "      <td>1</td>\n",
       "      <td>1</td>\n",
       "      <td>0</td>\n",
       "    </tr>\n",
       "    <tr>\n",
       "      <th>3</th>\n",
       "      <td>4</td>\n",
       "      <td>1</td>\n",
       "      <td>35.0</td>\n",
       "      <td>53.1000</td>\n",
       "      <td>2</td>\n",
       "      <td>0</td>\n",
       "      <td>0</td>\n",
       "      <td>0</td>\n",
       "      <td>0</td>\n",
       "      <td>1</td>\n",
       "      <td>...</td>\n",
       "      <td>0</td>\n",
       "      <td>0</td>\n",
       "      <td>0</td>\n",
       "      <td>0</td>\n",
       "      <td>1</td>\n",
       "      <td>0</td>\n",
       "      <td>0</td>\n",
       "      <td>1</td>\n",
       "      <td>1</td>\n",
       "      <td>0</td>\n",
       "    </tr>\n",
       "    <tr>\n",
       "      <th>8</th>\n",
       "      <td>9</td>\n",
       "      <td>1</td>\n",
       "      <td>27.0</td>\n",
       "      <td>11.1333</td>\n",
       "      <td>3</td>\n",
       "      <td>1</td>\n",
       "      <td>0</td>\n",
       "      <td>0</td>\n",
       "      <td>0</td>\n",
       "      <td>0</td>\n",
       "      <td>...</td>\n",
       "      <td>0</td>\n",
       "      <td>0</td>\n",
       "      <td>1</td>\n",
       "      <td>0</td>\n",
       "      <td>0</td>\n",
       "      <td>0</td>\n",
       "      <td>0</td>\n",
       "      <td>1</td>\n",
       "      <td>1</td>\n",
       "      <td>0</td>\n",
       "    </tr>\n",
       "    <tr>\n",
       "      <th>9</th>\n",
       "      <td>10</td>\n",
       "      <td>1</td>\n",
       "      <td>14.0</td>\n",
       "      <td>30.0708</td>\n",
       "      <td>2</td>\n",
       "      <td>0</td>\n",
       "      <td>0</td>\n",
       "      <td>0</td>\n",
       "      <td>0</td>\n",
       "      <td>0</td>\n",
       "      <td>...</td>\n",
       "      <td>0</td>\n",
       "      <td>0</td>\n",
       "      <td>0</td>\n",
       "      <td>1</td>\n",
       "      <td>0</td>\n",
       "      <td>1</td>\n",
       "      <td>0</td>\n",
       "      <td>0</td>\n",
       "      <td>0</td>\n",
       "      <td>1</td>\n",
       "    </tr>\n",
       "  </tbody>\n",
       "</table>\n",
       "<p>5 rows × 34 columns</p>\n",
       "</div>"
      ],
      "text/plain": [
       "   PassengerId  Survived   Age     Fare  FamilySize  IsMother  IsMale  Deck_A  \\\n",
       "1            2         1  38.0  71.2833           2         0       0       0   \n",
       "2            3         1  26.0   7.9250           1         0       0       0   \n",
       "3            4         1  35.0  53.1000           2         0       0       0   \n",
       "8            9         1  27.0  11.1333           3         1       0       0   \n",
       "9           10         1  14.0  30.0708           2         0       0       0   \n",
       "\n",
       "   Deck_B  Deck_C  ...  Title_Sir  Fare_Bin_very_low  Fare_Bin_low  \\\n",
       "1       0       1  ...          0                  0             0   \n",
       "2       0       0  ...          0                  0             1   \n",
       "3       0       1  ...          0                  0             0   \n",
       "8       0       0  ...          0                  0             1   \n",
       "9       0       0  ...          0                  0             0   \n",
       "\n",
       "   Fare_Bin_high  Fare_Bin_very_high  Embarked_C  Embarked_Q  Embarked_S  \\\n",
       "1              0                   1           1           0           0   \n",
       "2              0                   0           0           0           1   \n",
       "3              0                   1           0           0           1   \n",
       "8              0                   0           0           0           1   \n",
       "9              1                   0           1           0           0   \n",
       "\n",
       "   AgeState_Adult  AgeState_Child  \n",
       "1               1               0  \n",
       "2               1               0  \n",
       "3               1               0  \n",
       "8               1               0  \n",
       "9               0               1  \n",
       "\n",
       "[5 rows x 34 columns]"
      ]
     },
     "execution_count": 30,
     "metadata": {},
     "output_type": "execute_result"
    }
   ],
   "source": [
    "survived_passengers"
   ]
  },
  {
   "cell_type": "code",
   "execution_count": 32,
   "metadata": {},
   "outputs": [],
   "source": [
    "import requests\n",
    "def make_api_request(data):\n",
    "    # url for api\n",
    "    url = 'http://127.0.0.1:10001/api'\n",
    "    # make post request\n",
    "    r = requests.post(url,data)\n",
    "    # return r.text\n",
    "    return r.json()\n",
    "    "
   ]
  },
  {
   "cell_type": "code",
   "execution_count": 33,
   "metadata": {
    "scrolled": false
   },
   "outputs": [
    {
     "data": {
      "text/plain": [
       "{'PassengerId': {'0': 2, '1': 3, '2': 4, '3': 9, '4': 10},\n",
       " 'Predicted': {'0': 1, '1': 1, '2': 1, '3': 1, '4': 1},\n",
       " 'Actual': {'0': 1, '1': 1, '2': 1, '3': 1, '4': 1}}"
      ]
     },
     "execution_count": 33,
     "metadata": {},
     "output_type": "execute_result"
    }
   ],
   "source": [
    "make_api_request(survived_passengers.to_json())"
   ]
  },
  {
   "cell_type": "code",
   "execution_count": 34,
   "metadata": {},
   "outputs": [
    {
     "data": {
      "text/html": [
       "<div>\n",
       "<style scoped>\n",
       "    .dataframe tbody tr th:only-of-type {\n",
       "        vertical-align: middle;\n",
       "    }\n",
       "\n",
       "    .dataframe tbody tr th {\n",
       "        vertical-align: top;\n",
       "    }\n",
       "\n",
       "    .dataframe thead th {\n",
       "        text-align: right;\n",
       "    }\n",
       "</style>\n",
       "<table border=\"1\" class=\"dataframe\">\n",
       "  <thead>\n",
       "    <tr style=\"text-align: right;\">\n",
       "      <th></th>\n",
       "      <th>PassengerId</th>\n",
       "      <th>Predicted</th>\n",
       "      <th>Actual</th>\n",
       "    </tr>\n",
       "  </thead>\n",
       "  <tbody>\n",
       "    <tr>\n",
       "      <th>0</th>\n",
       "      <td>1</td>\n",
       "      <td>0</td>\n",
       "      <td>0</td>\n",
       "    </tr>\n",
       "    <tr>\n",
       "      <th>1</th>\n",
       "      <td>2</td>\n",
       "      <td>1</td>\n",
       "      <td>1</td>\n",
       "    </tr>\n",
       "    <tr>\n",
       "      <th>2</th>\n",
       "      <td>3</td>\n",
       "      <td>1</td>\n",
       "      <td>1</td>\n",
       "    </tr>\n",
       "    <tr>\n",
       "      <th>3</th>\n",
       "      <td>4</td>\n",
       "      <td>1</td>\n",
       "      <td>1</td>\n",
       "    </tr>\n",
       "    <tr>\n",
       "      <th>4</th>\n",
       "      <td>5</td>\n",
       "      <td>0</td>\n",
       "      <td>0</td>\n",
       "    </tr>\n",
       "  </tbody>\n",
       "</table>\n",
       "</div>"
      ],
      "text/plain": [
       "   PassengerId  Predicted  Actual\n",
       "0            1          0       0\n",
       "1            2          1       1\n",
       "2            3          1       1\n",
       "3            4          1       1\n",
       "4            5          0       0"
      ]
     },
     "execution_count": 34,
     "metadata": {},
     "output_type": "execute_result"
    }
   ],
   "source": [
    "# compare results\n",
    "result = make_api_request(train_df.to_json())\n",
    "df_result = pd.read_json(json.dumps(result))\n",
    "df_result.head()"
   ]
  },
  {
   "cell_type": "code",
   "execution_count": 35,
   "metadata": {},
   "outputs": [
    {
     "data": {
      "text/plain": [
       "0.8395061728395061"
      ]
     },
     "execution_count": 35,
     "metadata": {},
     "output_type": "execute_result"
    }
   ],
   "source": [
    "# accuracy level\n",
    "import numpy as np\n",
    "np.mean(df_result.Actual == df_result.Predicted)"
   ]
  }
 ],
 "metadata": {
  "kernelspec": {
   "display_name": "Python 3",
   "language": "python",
   "name": "python3"
  },
  "language_info": {
   "codemirror_mode": {
    "name": "ipython",
    "version": 3
   },
   "file_extension": ".py",
   "mimetype": "text/x-python",
   "name": "python",
   "nbconvert_exporter": "python",
   "pygments_lexer": "ipython3",
   "version": "3.8.5"
  }
 },
 "nbformat": 4,
 "nbformat_minor": 4
}
