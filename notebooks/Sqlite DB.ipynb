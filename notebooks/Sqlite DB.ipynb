{
 "cells": [
  {
   "cell_type": "code",
   "execution_count": null,
   "metadata": {},
   "outputs": [],
   "source": [
    "import sqlite3"
   ]
  },
  {
   "cell_type": "code",
   "execution_count": 9,
   "metadata": {},
   "outputs": [],
   "source": [
    "connection = sqlite3.connect(\"ClassDB.db\")\n",
    "connection.close()"
   ]
  },
  {
   "cell_type": "code",
   "execution_count": 10,
   "metadata": {},
   "outputs": [],
   "source": [
    "connection = sqlite3.connect(\"ClassDB.db\")\n",
    "cursor = connection.cursor()\n",
    "create_table = \"\"\"\n",
    "        Create table classroom(\n",
    "        student_id integer primary key,\n",
    "        name varchar(20),\n",
    "        gender char(1),\n",
    "        phisics_marks integer,\n",
    "        chemistry_marks integer,\n",
    "        math_marks integer \n",
    ");\"\"\"\n",
    "cursor.execute(create_table)\n",
    "connection.commit()\n",
    "connection.close()"
   ]
  },
  {
   "cell_type": "code",
   "execution_count": 12,
   "metadata": {},
   "outputs": [],
   "source": [
    "students = [\n",
    "    (1, \"syz\", \"M\", 90, 99, 88),\n",
    "    (2, \"amd\",\"M\", 95, 94, 98),\n",
    "    (3, \"mmd\",\"M\", 97, 91, 90),\n",
    "    (4, \"ibrm\",\"M\", 90, 99, 88),\n",
    "]\n",
    "connection = sqlite3.connect(\"ClassDB.db\")\n",
    "cursor = connection.cursor()\n",
    "for std in students:\n",
    "    insrt = \"\"\"Insert into classroom\n",
    "    (student_id, name, gender, phisics_marks, chemistry_marks, math_marks)\n",
    "    values ({0}, \"{1}\", \"{2}\", {3}, {4}, {5});\"\"\".format(std[0], std[1], std[2], std[3], std[4], std[5])\n",
    "    cursor.execute(insrt)\n",
    "    \n",
    "connection.commit()\n",
    "connection.close()"
   ]
  },
  {
   "cell_type": "code",
   "execution_count": 19,
   "metadata": {},
   "outputs": [
    {
     "name": "stdout",
     "output_type": "stream",
     "text": [
      "(1, 'syz', 'M', 90, 99, 88)\n"
     ]
    }
   ],
   "source": [
    "connection = sqlite3.connect(\"ClassDB.db\")\n",
    "cursor = connection.cursor()\n",
    "qry = \"select * from classroom where student_id = 1\"\n",
    "cursor.execute(qry)\n",
    "res = cursor.fetchall()\n",
    "for row in res:\n",
    "    print(row)\n",
    "connection.close()\n"
   ]
  }
 ],
 "metadata": {
  "kernelspec": {
   "display_name": "Python 3",
   "language": "python",
   "name": "python3"
  },
  "language_info": {
   "codemirror_mode": {
    "name": "ipython",
    "version": 3
   },
   "file_extension": ".py",
   "mimetype": "text/x-python",
   "name": "python",
   "nbconvert_exporter": "python",
   "pygments_lexer": "ipython3",
   "version": "3.8.5"
  }
 },
 "nbformat": 4,
 "nbformat_minor": 4
}
